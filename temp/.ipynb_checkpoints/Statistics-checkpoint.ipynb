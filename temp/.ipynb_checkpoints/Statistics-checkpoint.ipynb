{
 "cells": [
  {
   "cell_type": "code",
   "execution_count": 9,
   "id": "bebdc33c",
   "metadata": {},
   "outputs": [],
   "source": [
    "count = 0\n",
    "t_auc = []\n",
    "with open('../outputs/logs.txt','r') as file:\n",
    "    while True:\n",
    "        count += 1\n",
    "        line   = file.readline()\n",
    "        if not line:\n",
    "            break\n",
    "        if line.startswith('Testing AUC') == True:\n",
    "            temp_ls = line.split()\n",
    "            t_auc.append(float(temp_ls[-1]))"
   ]
  },
  {
   "cell_type": "code",
   "execution_count": 10,
   "id": "8982f56a",
   "metadata": {},
   "outputs": [
    {
     "name": "stdout",
     "output_type": "stream",
     "text": [
      "3866\n"
     ]
    }
   ],
   "source": [
    "print(len(t_auc))"
   ]
  },
  {
   "cell_type": "code",
   "execution_count": 11,
   "id": "edbc879d",
   "metadata": {},
   "outputs": [
    {
     "data": {
      "text/plain": [
       "0.7352740366629256"
      ]
     },
     "execution_count": 11,
     "metadata": {},
     "output_type": "execute_result"
    }
   ],
   "source": [
    "max(t_auc)"
   ]
  }
 ],
 "metadata": {
  "kernelspec": {
   "display_name": "Python [conda env:py38] *",
   "language": "python",
   "name": "conda-env-py38-py"
  },
  "language_info": {
   "codemirror_mode": {
    "name": "ipython",
    "version": 3
   },
   "file_extension": ".py",
   "mimetype": "text/x-python",
   "name": "python",
   "nbconvert_exporter": "python",
   "pygments_lexer": "ipython3",
   "version": "3.8.10"
  }
 },
 "nbformat": 4,
 "nbformat_minor": 5
}
